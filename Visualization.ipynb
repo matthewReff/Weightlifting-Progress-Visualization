{
 "cells": [
  {
   "cell_type": "code",
   "execution_count": 126,
   "id": "286d6b0d",
   "metadata": {},
   "outputs": [],
   "source": [
    "import csv\n",
    "import re\n",
    "import json\n",
    "\n",
    "'''\n",
    "ex:\n",
    "{\n",
    "    \"date\": \"1/1/2023\",\n",
    "    \"weight\": \"180\",\n",
    "    \"lifts\": [\n",
    "        {\n",
    "            \"exerciseName\": \"Deadlift\",\n",
    "            \"sets\": [\n",
    "                {\n",
    "                    \"reps\": 3,\n",
    "                    \"weight\": 215\"\n",
    "                },\n",
    "                {\n",
    "                    \"reps\": 2,\n",
    "                    \"weight\": 215\"\n",
    "                },\n",
    "                {\n",
    "                    \"reps\": 2,\n",
    "                    \"weight\": 200\"\n",
    "                }\n",
    "            ]\n",
    "        }\n",
    "    ]\n",
    "}\n",
    "'''\n",
    "def extractDataIntoJSON():\n",
    "    with open('weightliftingData.csv') as data:\n",
    "        csvReader = csv.reader(data, delimiter=',')\n",
    "        (DATE_COLUMN, WEIGHT_COLUMN, LIFT_1_COLUMN, LIFT_2_COLUMN, LIFT_3_COLUMN, LIFT_4_COLUMN, LIFT_5_COLUMN) = next(csvReader)\n",
    "\n",
    "        dataList = []\n",
    "        for row in csvReader:\n",
    "            (DATE, WEIGHT, *LIFT) = row\n",
    "            nonEmptyLifts = filter(lambda liftData: len(liftData) != 0, LIFT)\n",
    "            rowEntry = dict()\n",
    "            rowEntry[\"date\"] = DATE\n",
    "            rowEntry[\"weight\"] = WEIGHT\n",
    "            rowEntry[\"lifts\"] = list(map(extractLiftInfo, nonEmptyLifts))\n",
    "            dataList.append(rowEntry)\n",
    "        #print(json.dumps(dataList))\n",
    "        return dataList\n",
    "        \n",
    "\n",
    "def extractLiftInfo(rawString):\n",
    "    nameVsSetPattern = r\"^(\\D*)\\W(.*)$\"\n",
    "    nameVsSetMatch = re.search(nameVsSetPattern, rawString)\n",
    "    exerciseName = nameVsSetMatch.group(1)\n",
    "    setInfo = nameVsSetMatch.group(2)\n",
    "\n",
    "    splitSetPattern = r\"((\\d+x\\d+\\W?){1,}-?\\d+)\\W?\"\n",
    "    splitSets = re.findall(splitSetPattern, setInfo)\n",
    "    cleanSets = list(map(lambda set: set[0], splitSets))\n",
    "\n",
    "    setVsWeightPattern = r\"(.*)\\W(\\d+)$\"\n",
    "    for set in cleanSets:\n",
    "        setWeightMatch = re.search(setVsWeightPattern, set)\n",
    "        sets = setWeightMatch.group(1)\n",
    "        weight = setWeightMatch.group(2)\n",
    "\n",
    "        setPattern = r\"(\\d+)x(\\d+)\"\n",
    "        setDataList = list(re.findall(setPattern, sets))\n",
    "\n",
    "        listOfSets = []\n",
    "        for entry in setDataList:\n",
    "            numSets = int(entry[0])\n",
    "            for i in range(numSets):\n",
    "                listOfSets.append({\"reps\": entry[1], \"weight\": weight})\n",
    "    return {\n",
    "        \"exerciseName\": exerciseName,\n",
    "        \"sets\": listOfSets\n",
    "    }"
   ]
  },
  {
   "cell_type": "code",
   "execution_count": 127,
   "id": "520abdb1",
   "metadata": {},
   "outputs": [],
   "source": [
    "liftingData = extractDataIntoJSON()"
   ]
  },
  {
   "cell_type": "code",
   "execution_count": 128,
   "id": "6b9a5cc6",
   "metadata": {},
   "outputs": [],
   "source": [
    "import matplotlib.pyplot as plt\n",
    "from matplotlib.animation import FuncAnimation\n",
    "import matplotlib.animation as animation\n",
    "from datetime import datetime"
   ]
  },
  {
   "cell_type": "code",
   "execution_count": 129,
   "id": "d3f793d0",
   "metadata": {},
   "outputs": [],
   "source": [
    "def convertDateStringToDate(dateString):\n",
    "    return datetime.strptime(dateString, \"%m/%d/%y\")"
   ]
  },
  {
   "cell_type": "code",
   "execution_count": 130,
   "id": "4faaf1e0",
   "metadata": {},
   "outputs": [],
   "source": [
    "plt.rcParams[\"figure.figsize\"] = plt.rcParamsDefault[\"figure.figsize\"]"
   ]
  },
  {
   "cell_type": "code",
   "execution_count": 131,
   "id": "c4145c0c",
   "metadata": {},
   "outputs": [
    {
     "data": {
      "image/png": "[encoded data removed]",
      "text/plain": [
       "<Figure size 460.8x345.6 with 1 Axes>"
      ]
     },
     "metadata": {
      "needs_background": "light"
     },
     "output_type": "display_data"
    }
   ],
   "source": [
    "weightData = list(map(lambda x: x[\"weight\"], liftingData))\n",
    "dateData = list(map(lambda x: convertDateStringToDate(x[\"date\"]), liftingData))\n",
    "\n",
    "#print(weightData, dateData)\n",
    "#print(len(weightData), len(dateData))\n",
    "\n",
    "plt.title(\"Weight Over Time\")\n",
    "plt.rcParams[\"figure.figsize\"] = (20,20)\n",
    "plt.plot(dateData, weightData, color='blue')\n",
    "\n",
    "plt.show()"
   ]
  },
  {
   "cell_type": "code",
   "execution_count": null,
   "id": "11e1f318",
   "metadata": {},
   "outputs": [],
   "source": []
  },
  {
   "cell_type": "code",
   "execution_count": null,
   "id": "993f19ec",
   "metadata": {},
   "outputs": [],
   "source": []
  }
 ],
 "metadata": {
  "kernelspec": {
   "display_name": "Python 3 (ipykernel)",
   "language": "python",
   "name": "python3"
  },
  "language_info": {
   "codemirror_mode": {
    "name": "ipython",
    "version": 3
   },
   "file_extension": ".py",
   "mimetype": "text/x-python",
   "name": "python",
   "nbconvert_exporter": "python",
   "pygments_lexer": "ipython3",
   "version": "3.10.12"
  }
 },
 "nbformat": 4,
 "nbformat_minor": 5
}
